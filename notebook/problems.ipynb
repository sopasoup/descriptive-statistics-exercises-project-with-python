{
    "cells": [
        {
            "cell_type": "markdown",
            "id": "ac622319",
            "metadata": {},
            "source": [
                "# Descriptive statistics problems"
            ]
        },
        {
            "cell_type": "markdown",
            "id": "5e0ab0d5",
            "metadata": {},
            "source": [
                "### Exercise 1\n",
                "\n",
                "We will use NumPy to obtain information to describe statistically.\n",
                "\n",
                "- Generate an array of 100 elements following a normal distribution.\n",
                "- Generate an array of 100 elements following a chi-square distribution with 3 degrees of freedom.\n",
                "- Calculate the main metrics and statistical measures that best describe the two vectors."
            ]
        },
        {
            "cell_type": "code",
            "execution_count": 25,
            "id": "34720ab6",
            "metadata": {},
            "outputs": [
                {
                    "name": "stdout",
                    "output_type": "stream",
                    "text": [
                        "1.6751017661924001\n",
                        "4.926979649875564\n"
                    ]
                }
            ],
            "source": [
                "import numpy as np\n",
                "from scipy.stats import skew, kurtosis\n",
                "\n",
                "datos_normal = np.random.normal(loc=0, scale=1, size=100)\n",
                "chi_cuadrado_datos = np.random.chisquare(df=3, size=100)\n",
                "\n",
                "normal_mean = np.mean(datos_normal)\n",
                "normal_median = np.median(datos_normal)\n",
                "normal_std_dev = np.std(datos_normal)\n",
                "normal_skewness = skew(datos_normal)\n",
                "normal_kurt = kurtosis(datos_normal)\n",
                "chi_mean = np.mean(chi_cuadrado_datos)\n",
                "chi_median = np.median(chi_cuadrado_datos)\n",
                "chi_std_dev = np.std(chi_cuadrado_datos)\n",
                "chi_skewness = skew(chi_cuadrado_datos)\n",
                "chi_kurt = kurtosis(chi_cuadrado_datos)\n"
            ]
        },
        {
            "cell_type": "markdown",
            "id": "46c70c3d",
            "metadata": {},
            "source": [
                "### Exercise 2\n",
                "\n",
                "Write a Python program to calculate the standard deviation of the following data:\n",
                "\n",
                "```py\n",
                "data = [4, 2, 5, 8, 6]\n",
                "```"
            ]
        },
        {
            "cell_type": "code",
            "execution_count": 28,
            "id": "d590308e",
            "metadata": {},
            "outputs": [
                {
                    "name": "stdout",
                    "output_type": "stream",
                    "text": [
                        "Datos para calcular: [4, 2, 5, 8, 6]\n",
                        "Desviación Estandar: 2.23606797749979\n"
                    ]
                }
            ],
            "source": [
                "import math\n",
                "\n",
                "data = [4, 2, 5, 8, 6]\n",
                "def media(lista):\n",
                "    return sum(lista) / len(lista)\n",
                "    \n",
                "def devest(lista):\n",
                "    promedio = media(lista)\n",
                "    sumatoria = 0\n",
                "    varianza = sum((x - promedio)**2 for x in lista) / (len(lista) - 1)\n",
                "    return math.sqrt(varianza)\n",
                "print(f'Datos para calcular: {data}')\n",
                "print(f'Desviación Estandar: {devest(data)}')"
            ]
        }
    ],
    "metadata": {
        "kernelspec": {
            "display_name": "Python 3",
            "language": "python",
            "name": "python3"
        },
        "language_info": {
            "codemirror_mode": {
                "name": "ipython",
                "version": 3
            },
            "file_extension": ".py",
            "mimetype": "text/x-python",
            "name": "python",
            "nbconvert_exporter": "python",
            "pygments_lexer": "ipython3",
            "version": "3.11.4"
        }
    },
    "nbformat": 4,
    "nbformat_minor": 5
}
